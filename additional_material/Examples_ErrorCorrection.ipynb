{
 "cells": [
  {
   "cell_type": "code",
   "execution_count": 1,
   "id": "91043491",
   "metadata": {},
   "outputs": [
    {
     "name": "stdout",
     "output_type": "stream",
     "text": [
      "WARNING:tensorflow:From C:\\Users\\karen\\anaconda3\\envs\\TSCC_testing\\lib\\site-packages\\tensorflow\\python\\compat\\v2_compat.py:107: disable_resource_variables (from tensorflow.python.ops.variable_scope) is deprecated and will be removed in a future version.\n",
      "Instructions for updating:\n",
      "non-resource variables are not supported in the long term\n"
     ]
    }
   ],
   "source": [
    "import TSCC\n",
    "import pandas as pd\n",
    "from sklearn.model_selection import train_test_split\n",
    "import numpy as np\n",
    "import matplotlib.pyplot as plt"
   ]
  },
  {
   "cell_type": "markdown",
   "id": "3c60d7d8",
   "metadata": {},
   "source": [
    "Usage of synthetic example dataset"
   ]
  },
  {
   "cell_type": "code",
   "execution_count": 2,
   "id": "d4a086f1",
   "metadata": {},
   "outputs": [
    {
     "data": {
      "text/html": [
       "<div>\n",
       "<style scoped>\n",
       "    .dataframe tbody tr th:only-of-type {\n",
       "        vertical-align: middle;\n",
       "    }\n",
       "\n",
       "    .dataframe tbody tr th {\n",
       "        vertical-align: top;\n",
       "    }\n",
       "\n",
       "    .dataframe thead th {\n",
       "        text-align: right;\n",
       "    }\n",
       "</style>\n",
       "<table border=\"1\" class=\"dataframe\">\n",
       "  <thead>\n",
       "    <tr style=\"text-align: right;\">\n",
       "      <th></th>\n",
       "      <th>ground_truth</th>\n",
       "      <th>raw</th>\n",
       "      <th>fea_1</th>\n",
       "      <th>fea_2</th>\n",
       "      <th>isError_gt</th>\n",
       "      <th>isError_pred</th>\n",
       "    </tr>\n",
       "  </thead>\n",
       "  <tbody>\n",
       "    <tr>\n",
       "      <th>2023-01-01 00:00:00</th>\n",
       "      <td>3</td>\n",
       "      <td>3.868966</td>\n",
       "      <td>5</td>\n",
       "      <td>1</td>\n",
       "      <td>True</td>\n",
       "      <td>True</td>\n",
       "    </tr>\n",
       "    <tr>\n",
       "      <th>2023-01-01 00:30:00</th>\n",
       "      <td>0</td>\n",
       "      <td>0.000000</td>\n",
       "      <td>7</td>\n",
       "      <td>1</td>\n",
       "      <td>False</td>\n",
       "      <td>False</td>\n",
       "    </tr>\n",
       "    <tr>\n",
       "      <th>2023-01-01 01:00:00</th>\n",
       "      <td>3</td>\n",
       "      <td>3.000000</td>\n",
       "      <td>5</td>\n",
       "      <td>2</td>\n",
       "      <td>False</td>\n",
       "      <td>False</td>\n",
       "    </tr>\n",
       "    <tr>\n",
       "      <th>2023-01-01 01:30:00</th>\n",
       "      <td>2</td>\n",
       "      <td>6.026272</td>\n",
       "      <td>1</td>\n",
       "      <td>3</td>\n",
       "      <td>True</td>\n",
       "      <td>True</td>\n",
       "    </tr>\n",
       "    <tr>\n",
       "      <th>2023-01-01 02:00:00</th>\n",
       "      <td>1</td>\n",
       "      <td>1.000000</td>\n",
       "      <td>1</td>\n",
       "      <td>0</td>\n",
       "      <td>False</td>\n",
       "      <td>False</td>\n",
       "    </tr>\n",
       "    <tr>\n",
       "      <th>...</th>\n",
       "      <td>...</td>\n",
       "      <td>...</td>\n",
       "      <td>...</td>\n",
       "      <td>...</td>\n",
       "      <td>...</td>\n",
       "      <td>...</td>\n",
       "    </tr>\n",
       "    <tr>\n",
       "      <th>2023-04-15 01:30:00</th>\n",
       "      <td>4</td>\n",
       "      <td>0.819840</td>\n",
       "      <td>4</td>\n",
       "      <td>6</td>\n",
       "      <td>True</td>\n",
       "      <td>True</td>\n",
       "    </tr>\n",
       "    <tr>\n",
       "      <th>2023-04-15 02:00:00</th>\n",
       "      <td>6</td>\n",
       "      <td>6.000000</td>\n",
       "      <td>2</td>\n",
       "      <td>1</td>\n",
       "      <td>False</td>\n",
       "      <td>False</td>\n",
       "    </tr>\n",
       "    <tr>\n",
       "      <th>2023-04-15 02:30:00</th>\n",
       "      <td>3</td>\n",
       "      <td>5.279944</td>\n",
       "      <td>2</td>\n",
       "      <td>2</td>\n",
       "      <td>True</td>\n",
       "      <td>True</td>\n",
       "    </tr>\n",
       "    <tr>\n",
       "      <th>2023-04-15 03:00:00</th>\n",
       "      <td>0</td>\n",
       "      <td>12.759627</td>\n",
       "      <td>2</td>\n",
       "      <td>0</td>\n",
       "      <td>True</td>\n",
       "      <td>True</td>\n",
       "    </tr>\n",
       "    <tr>\n",
       "      <th>2023-04-15 03:30:00</th>\n",
       "      <td>1</td>\n",
       "      <td>1.000000</td>\n",
       "      <td>0</td>\n",
       "      <td>2</td>\n",
       "      <td>False</td>\n",
       "      <td>False</td>\n",
       "    </tr>\n",
       "  </tbody>\n",
       "</table>\n",
       "<p>5000 rows × 6 columns</p>\n",
       "</div>"
      ],
      "text/plain": [
       "                     ground_truth        raw  fea_1  fea_2  isError_gt  \\\n",
       "2023-01-01 00:00:00             3   3.868966      5      1        True   \n",
       "2023-01-01 00:30:00             0   0.000000      7      1       False   \n",
       "2023-01-01 01:00:00             3   3.000000      5      2       False   \n",
       "2023-01-01 01:30:00             2   6.026272      1      3        True   \n",
       "2023-01-01 02:00:00             1   1.000000      1      0       False   \n",
       "...                           ...        ...    ...    ...         ...   \n",
       "2023-04-15 01:30:00             4   0.819840      4      6        True   \n",
       "2023-04-15 02:00:00             6   6.000000      2      1       False   \n",
       "2023-04-15 02:30:00             3   5.279944      2      2        True   \n",
       "2023-04-15 03:00:00             0  12.759627      2      0        True   \n",
       "2023-04-15 03:30:00             1   1.000000      0      2       False   \n",
       "\n",
       "                     isError_pred  \n",
       "2023-01-01 00:00:00          True  \n",
       "2023-01-01 00:30:00         False  \n",
       "2023-01-01 01:00:00         False  \n",
       "2023-01-01 01:30:00          True  \n",
       "2023-01-01 02:00:00         False  \n",
       "...                           ...  \n",
       "2023-04-15 01:30:00          True  \n",
       "2023-04-15 02:00:00         False  \n",
       "2023-04-15 02:30:00          True  \n",
       "2023-04-15 03:00:00          True  \n",
       "2023-04-15 03:30:00         False  \n",
       "\n",
       "[5000 rows x 6 columns]"
      ]
     },
     "execution_count": 2,
     "metadata": {},
     "output_type": "execute_result"
    }
   ],
   "source": [
    "nr_obs = 5000\n",
    "np.random.seed(0)\n",
    "# Generate random data\n",
    "#data = np.random.randn(nr_obs, 4)\n",
    "# Generate Poisson-distributed random values\n",
    "data = np.random.poisson(lam=2, size=(nr_obs, 4))\n",
    "time_index = pd.date_range(start='2023-01-01 00:00', periods=nr_obs, freq='30T')\n",
    "\n",
    "# Create DataFrame with specified column names\n",
    "df = pd.DataFrame(data, columns=[\"ground_truth\", \"raw\", 'fea_1', 'fea_2'], index = time_index)\n",
    "df[\"raw\"] = abs(df[\"ground_truth\"] + np.random.normal(0, 5, nr_obs)*np.random.randint(0, 2, nr_obs))\n",
    "df[\"isError_gt\"] = df[\"ground_truth\"] != df[\"raw\"]\n",
    "df[\"isError_pred\"] = df[\"isError_gt\"]\n",
    "df"
   ]
  },
  {
   "cell_type": "code",
   "execution_count": 3,
   "id": "ac5aaf71",
   "metadata": {},
   "outputs": [],
   "source": [
    "train, test = train_test_split(df, test_size=0.2)"
   ]
  },
  {
   "cell_type": "code",
   "execution_count": 4,
   "id": "3b505835",
   "metadata": {},
   "outputs": [],
   "source": [
    "config = TSCC.assessment.Config(\n",
    "    colname_target_det=\"isError_gt\", \n",
    "    colname_target_corr=\"ground_truth\", \n",
    "    colname_raw=\"raw\",\n",
    "    colname_isErroneousPred=\"isError_pred\",\n",
    "    exclude_cols = [\"isError_gt\", \"ground_truth\"]\n",
    ")"
   ]
  },
  {
   "cell_type": "code",
   "execution_count": 5,
   "id": "5d5d5ea4",
   "metadata": {},
   "outputs": [],
   "source": [
    "df_flag_erroneous = config.colname_isErroneousPred\n",
    "train = train.fillna(-777)\n",
    "train = train[train[df_flag_erroneous] == True].copy()"
   ]
  },
  {
   "cell_type": "code",
   "execution_count": 6,
   "id": "bae1988c-e73c-4d64-b231-24aa46f5ee75",
   "metadata": {},
   "outputs": [
    {
     "data": {
      "text/plain": [
       "(2053, 6)"
      ]
     },
     "execution_count": 6,
     "metadata": {},
     "output_type": "execute_result"
    }
   ],
   "source": [
    "train.shape"
   ]
  },
  {
   "cell_type": "markdown",
   "id": "2966ada4",
   "metadata": {},
   "source": [
    "# Plain RF"
   ]
  },
  {
   "cell_type": "code",
   "execution_count": 7,
   "id": "1f0b7087",
   "metadata": {},
   "outputs": [
    {
     "data": {
      "text/plain": [
       "2023-02-11 16:00:00    1.942442\n",
       "2023-01-22 20:30:00    2.000000\n",
       "2023-02-08 11:30:00    4.000000\n",
       "2023-02-04 00:00:00    1.000000\n",
       "2023-04-07 05:00:00    1.308040\n",
       "                         ...   \n",
       "2023-02-24 23:00:00    2.000000\n",
       "2023-02-12 00:30:00    1.777577\n",
       "2023-01-29 15:30:00    1.000000\n",
       "2023-03-16 21:30:00    3.000000\n",
       "2023-03-28 12:30:00    3.000000\n",
       "Name: raw_pred, Length: 1000, dtype: float64"
      ]
     },
     "execution_count": 7,
     "metadata": {},
     "output_type": "execute_result"
    }
   ],
   "source": [
    "#default parameters\n",
    "class_instance = TSCC.correction.ML_byRF()\n",
    "class_instance.fit(\n",
    "                train.drop(columns = config.exclude_cols).copy(deep=True),\n",
    "                train[config.colname_target_corr].copy(deep=True),\n",
    "                \"isError_pred\",\n",
    "                config)\n",
    "class_instance.predict(\n",
    "                test.drop(columns = config.exclude_cols).copy(deep=True),\n",
    "                \"isError_pred\",\n",
    "                config)"
   ]
  },
  {
   "cell_type": "markdown",
   "id": "9c679325",
   "metadata": {},
   "source": [
    "# RF with data-level preprocessing/ data augmentation - SMOGN"
   ]
  },
  {
   "cell_type": "code",
   "execution_count": 8,
   "id": "8447a6c7-ac75-41a9-8f75-d57b516dc23d",
   "metadata": {},
   "outputs": [],
   "source": [
    "df_fea, df_tar = TSCC.preprocessing.undersampling_valrange(train.drop(columns = [\"ground_truth\"]), train[[\"ground_truth\"]], \"ground_truth\", 0.05, [-1, 0])\n",
    "train_unders = pd.concat([df_fea, df_tar], axis = 1)"
   ]
  },
  {
   "cell_type": "code",
   "execution_count": 9,
   "id": "615cd6fb-34cd-4480-b797-0ee41ec3575a",
   "metadata": {},
   "outputs": [
    {
     "data": {
      "text/html": [
       "<div>\n",
       "<style scoped>\n",
       "    .dataframe tbody tr th:only-of-type {\n",
       "        vertical-align: middle;\n",
       "    }\n",
       "\n",
       "    .dataframe tbody tr th {\n",
       "        vertical-align: top;\n",
       "    }\n",
       "\n",
       "    .dataframe thead th {\n",
       "        text-align: right;\n",
       "    }\n",
       "</style>\n",
       "<table border=\"1\" class=\"dataframe\">\n",
       "  <thead>\n",
       "    <tr style=\"text-align: right;\">\n",
       "      <th></th>\n",
       "      <th>raw</th>\n",
       "      <th>fea_1</th>\n",
       "      <th>fea_2</th>\n",
       "      <th>isError_gt</th>\n",
       "      <th>isError_pred</th>\n",
       "      <th>ground_truth</th>\n",
       "    </tr>\n",
       "  </thead>\n",
       "  <tbody>\n",
       "    <tr>\n",
       "      <th>2023-01-01 01:30:00</th>\n",
       "      <td>6.026272</td>\n",
       "      <td>1</td>\n",
       "      <td>3</td>\n",
       "      <td>True</td>\n",
       "      <td>True</td>\n",
       "      <td>2</td>\n",
       "    </tr>\n",
       "    <tr>\n",
       "      <th>2023-01-01 04:30:00</th>\n",
       "      <td>2.365467</td>\n",
       "      <td>1</td>\n",
       "      <td>4</td>\n",
       "      <td>True</td>\n",
       "      <td>True</td>\n",
       "      <td>2</td>\n",
       "    </tr>\n",
       "    <tr>\n",
       "      <th>2023-01-01 05:00:00</th>\n",
       "      <td>2.163503</td>\n",
       "      <td>1</td>\n",
       "      <td>2</td>\n",
       "      <td>True</td>\n",
       "      <td>True</td>\n",
       "      <td>5</td>\n",
       "    </tr>\n",
       "    <tr>\n",
       "      <th>2023-01-01 05:30:00</th>\n",
       "      <td>4.163708</td>\n",
       "      <td>3</td>\n",
       "      <td>3</td>\n",
       "      <td>True</td>\n",
       "      <td>True</td>\n",
       "      <td>2</td>\n",
       "    </tr>\n",
       "    <tr>\n",
       "      <th>2023-01-01 06:30:00</th>\n",
       "      <td>8.640910</td>\n",
       "      <td>2</td>\n",
       "      <td>1</td>\n",
       "      <td>True</td>\n",
       "      <td>True</td>\n",
       "      <td>4</td>\n",
       "    </tr>\n",
       "    <tr>\n",
       "      <th>...</th>\n",
       "      <td>...</td>\n",
       "      <td>...</td>\n",
       "      <td>...</td>\n",
       "      <td>...</td>\n",
       "      <td>...</td>\n",
       "      <td>...</td>\n",
       "    </tr>\n",
       "    <tr>\n",
       "      <th>2023-04-14 19:30:00</th>\n",
       "      <td>6.404499</td>\n",
       "      <td>6</td>\n",
       "      <td>1</td>\n",
       "      <td>True</td>\n",
       "      <td>True</td>\n",
       "      <td>1</td>\n",
       "    </tr>\n",
       "    <tr>\n",
       "      <th>2023-04-14 20:00:00</th>\n",
       "      <td>0.497748</td>\n",
       "      <td>4</td>\n",
       "      <td>1</td>\n",
       "      <td>True</td>\n",
       "      <td>True</td>\n",
       "      <td>2</td>\n",
       "    </tr>\n",
       "    <tr>\n",
       "      <th>2023-04-14 20:30:00</th>\n",
       "      <td>0.377937</td>\n",
       "      <td>2</td>\n",
       "      <td>1</td>\n",
       "      <td>True</td>\n",
       "      <td>True</td>\n",
       "      <td>1</td>\n",
       "    </tr>\n",
       "    <tr>\n",
       "      <th>2023-04-14 21:00:00</th>\n",
       "      <td>2.683548</td>\n",
       "      <td>5</td>\n",
       "      <td>3</td>\n",
       "      <td>True</td>\n",
       "      <td>True</td>\n",
       "      <td>1</td>\n",
       "    </tr>\n",
       "    <tr>\n",
       "      <th>2023-04-15 02:30:00</th>\n",
       "      <td>5.279944</td>\n",
       "      <td>2</td>\n",
       "      <td>2</td>\n",
       "      <td>True</td>\n",
       "      <td>True</td>\n",
       "      <td>3</td>\n",
       "    </tr>\n",
       "  </tbody>\n",
       "</table>\n",
       "<p>1787 rows × 6 columns</p>\n",
       "</div>"
      ],
      "text/plain": [
       "                          raw  fea_1  fea_2  isError_gt  isError_pred  \\\n",
       "2023-01-01 01:30:00  6.026272      1      3        True          True   \n",
       "2023-01-01 04:30:00  2.365467      1      4        True          True   \n",
       "2023-01-01 05:00:00  2.163503      1      2        True          True   \n",
       "2023-01-01 05:30:00  4.163708      3      3        True          True   \n",
       "2023-01-01 06:30:00  8.640910      2      1        True          True   \n",
       "...                       ...    ...    ...         ...           ...   \n",
       "2023-04-14 19:30:00  6.404499      6      1        True          True   \n",
       "2023-04-14 20:00:00  0.497748      4      1        True          True   \n",
       "2023-04-14 20:30:00  0.377937      2      1        True          True   \n",
       "2023-04-14 21:00:00  2.683548      5      3        True          True   \n",
       "2023-04-15 02:30:00  5.279944      2      2        True          True   \n",
       "\n",
       "                     ground_truth  \n",
       "2023-01-01 01:30:00             2  \n",
       "2023-01-01 04:30:00             2  \n",
       "2023-01-01 05:00:00             5  \n",
       "2023-01-01 05:30:00             2  \n",
       "2023-01-01 06:30:00             4  \n",
       "...                           ...  \n",
       "2023-04-14 19:30:00             1  \n",
       "2023-04-14 20:00:00             2  \n",
       "2023-04-14 20:30:00             1  \n",
       "2023-04-14 21:00:00             1  \n",
       "2023-04-15 02:30:00             3  \n",
       "\n",
       "[1787 rows x 6 columns]"
      ]
     },
     "execution_count": 9,
     "metadata": {},
     "output_type": "execute_result"
    }
   ],
   "source": [
    "train_unders"
   ]
  },
  {
   "cell_type": "code",
   "execution_count": 10,
   "id": "3fb8ec34-f0ec-40b1-a865-cf601c9db6b5",
   "metadata": {},
   "outputs": [
    {
     "name": "stderr",
     "output_type": "stream",
     "text": [
      "dist_matrix: 100%|###################################################################| 109/109 [00:02<00:00, 44.33it/s]\n",
      "synth_matrix: 100%|#################################################################| 109/109 [00:00<00:00, 109.23it/s]\n",
      "r_index: 100%|########################################################################| 21/21 [00:00<00:00, 777.75it/s]\n"
     ]
    }
   ],
   "source": [
    "train_smogn_fea, train_smogn_tar = TSCC.preprocessing.SMOGN(train_unders.\\\n",
    "                         drop(columns = config.exclude_cols).\\\n",
    "                         fillna(-777),\n",
    "                        train_unders[[config.colname_target_corr]],\n",
    "                        config.colname_target_corr,                   \n",
    "                        rel_thres = 0.8)"
   ]
  },
  {
   "cell_type": "code",
   "execution_count": 11,
   "id": "e1aca17e",
   "metadata": {},
   "outputs": [
    {
     "data": {
      "text/html": [
       "<div>\n",
       "<style scoped>\n",
       "    .dataframe tbody tr th:only-of-type {\n",
       "        vertical-align: middle;\n",
       "    }\n",
       "\n",
       "    .dataframe tbody tr th {\n",
       "        vertical-align: top;\n",
       "    }\n",
       "\n",
       "    .dataframe thead th {\n",
       "        text-align: right;\n",
       "    }\n",
       "</style>\n",
       "<table border=\"1\" class=\"dataframe\">\n",
       "  <thead>\n",
       "    <tr style=\"text-align: right;\">\n",
       "      <th></th>\n",
       "      <th>raw</th>\n",
       "      <th>fea_1</th>\n",
       "      <th>fea_2</th>\n",
       "      <th>isError_pred</th>\n",
       "    </tr>\n",
       "  </thead>\n",
       "  <tbody>\n",
       "    <tr>\n",
       "      <th>2023-01-01 01:30:00.000</th>\n",
       "      <td>5.428867</td>\n",
       "      <td>1.0</td>\n",
       "      <td>1.0</td>\n",
       "      <td>True</td>\n",
       "    </tr>\n",
       "    <tr>\n",
       "      <th>2023-01-01 04:30:00.000</th>\n",
       "      <td>5.461021</td>\n",
       "      <td>1.0</td>\n",
       "      <td>1.0</td>\n",
       "      <td>True</td>\n",
       "    </tr>\n",
       "    <tr>\n",
       "      <th>2023-01-01 05:00:00.000</th>\n",
       "      <td>5.112234</td>\n",
       "      <td>1.0</td>\n",
       "      <td>1.0</td>\n",
       "      <td>True</td>\n",
       "    </tr>\n",
       "    <tr>\n",
       "      <th>2023-01-01 05:00:00.001</th>\n",
       "      <td>2.163503</td>\n",
       "      <td>1.0</td>\n",
       "      <td>2.0</td>\n",
       "      <td>True</td>\n",
       "    </tr>\n",
       "    <tr>\n",
       "      <th>2023-01-01 05:30:00.000</th>\n",
       "      <td>5.669921</td>\n",
       "      <td>1.0</td>\n",
       "      <td>1.0</td>\n",
       "      <td>True</td>\n",
       "    </tr>\n",
       "    <tr>\n",
       "      <th>...</th>\n",
       "      <td>...</td>\n",
       "      <td>...</td>\n",
       "      <td>...</td>\n",
       "      <td>...</td>\n",
       "    </tr>\n",
       "    <tr>\n",
       "      <th>2023-04-14 13:30:00.000</th>\n",
       "      <td>4.476596</td>\n",
       "      <td>4.0</td>\n",
       "      <td>0.0</td>\n",
       "      <td>True</td>\n",
       "    </tr>\n",
       "    <tr>\n",
       "      <th>2023-04-14 15:00:00.000</th>\n",
       "      <td>5.661604</td>\n",
       "      <td>0.0</td>\n",
       "      <td>1.0</td>\n",
       "      <td>True</td>\n",
       "    </tr>\n",
       "    <tr>\n",
       "      <th>2023-04-14 16:30:00.000</th>\n",
       "      <td>9.663334</td>\n",
       "      <td>0.0</td>\n",
       "      <td>1.0</td>\n",
       "      <td>True</td>\n",
       "    </tr>\n",
       "    <tr>\n",
       "      <th>2023-04-14 19:30:00.000</th>\n",
       "      <td>6.404499</td>\n",
       "      <td>6.0</td>\n",
       "      <td>1.0</td>\n",
       "      <td>True</td>\n",
       "    </tr>\n",
       "    <tr>\n",
       "      <th>2023-04-14 20:00:00.000</th>\n",
       "      <td>0.497748</td>\n",
       "      <td>4.0</td>\n",
       "      <td>1.0</td>\n",
       "      <td>True</td>\n",
       "    </tr>\n",
       "  </tbody>\n",
       "</table>\n",
       "<p>1677 rows × 4 columns</p>\n",
       "</div>"
      ],
      "text/plain": [
       "                              raw  fea_1  fea_2  isError_pred\n",
       "2023-01-01 01:30:00.000  5.428867    1.0    1.0          True\n",
       "2023-01-01 04:30:00.000  5.461021    1.0    1.0          True\n",
       "2023-01-01 05:00:00.000  5.112234    1.0    1.0          True\n",
       "2023-01-01 05:00:00.001  2.163503    1.0    2.0          True\n",
       "2023-01-01 05:30:00.000  5.669921    1.0    1.0          True\n",
       "...                           ...    ...    ...           ...\n",
       "2023-04-14 13:30:00.000  4.476596    4.0    0.0          True\n",
       "2023-04-14 15:00:00.000  5.661604    0.0    1.0          True\n",
       "2023-04-14 16:30:00.000  9.663334    0.0    1.0          True\n",
       "2023-04-14 19:30:00.000  6.404499    6.0    1.0          True\n",
       "2023-04-14 20:00:00.000  0.497748    4.0    1.0          True\n",
       "\n",
       "[1677 rows x 4 columns]"
      ]
     },
     "execution_count": 11,
     "metadata": {},
     "output_type": "execute_result"
    }
   ],
   "source": [
    "train_smogn_fea"
   ]
  },
  {
   "cell_type": "code",
   "execution_count": 12,
   "id": "d6c8ab62",
   "metadata": {},
   "outputs": [
    {
     "data": {
      "text/html": [
       "<div>\n",
       "<style scoped>\n",
       "    .dataframe tbody tr th:only-of-type {\n",
       "        vertical-align: middle;\n",
       "    }\n",
       "\n",
       "    .dataframe tbody tr th {\n",
       "        vertical-align: top;\n",
       "    }\n",
       "\n",
       "    .dataframe thead th {\n",
       "        text-align: right;\n",
       "    }\n",
       "</style>\n",
       "<table border=\"1\" class=\"dataframe\">\n",
       "  <thead>\n",
       "    <tr style=\"text-align: right;\">\n",
       "      <th></th>\n",
       "      <th>ground_truth</th>\n",
       "    </tr>\n",
       "  </thead>\n",
       "  <tbody>\n",
       "    <tr>\n",
       "      <th>2023-01-01 01:30:00.000</th>\n",
       "      <td>7.0</td>\n",
       "    </tr>\n",
       "    <tr>\n",
       "      <th>2023-01-01 04:30:00.000</th>\n",
       "      <td>7.0</td>\n",
       "    </tr>\n",
       "    <tr>\n",
       "      <th>2023-01-01 05:00:00.000</th>\n",
       "      <td>7.0</td>\n",
       "    </tr>\n",
       "    <tr>\n",
       "      <th>2023-01-01 05:00:00.001</th>\n",
       "      <td>5.0</td>\n",
       "    </tr>\n",
       "    <tr>\n",
       "      <th>2023-01-01 05:30:00.000</th>\n",
       "      <td>7.0</td>\n",
       "    </tr>\n",
       "    <tr>\n",
       "      <th>...</th>\n",
       "      <td>...</td>\n",
       "    </tr>\n",
       "    <tr>\n",
       "      <th>2023-04-14 13:30:00.000</th>\n",
       "      <td>3.0</td>\n",
       "    </tr>\n",
       "    <tr>\n",
       "      <th>2023-04-14 15:00:00.000</th>\n",
       "      <td>4.0</td>\n",
       "    </tr>\n",
       "    <tr>\n",
       "      <th>2023-04-14 16:30:00.000</th>\n",
       "      <td>3.0</td>\n",
       "    </tr>\n",
       "    <tr>\n",
       "      <th>2023-04-14 19:30:00.000</th>\n",
       "      <td>1.0</td>\n",
       "    </tr>\n",
       "    <tr>\n",
       "      <th>2023-04-14 20:00:00.000</th>\n",
       "      <td>2.0</td>\n",
       "    </tr>\n",
       "  </tbody>\n",
       "</table>\n",
       "<p>1677 rows × 1 columns</p>\n",
       "</div>"
      ],
      "text/plain": [
       "                         ground_truth\n",
       "2023-01-01 01:30:00.000           7.0\n",
       "2023-01-01 04:30:00.000           7.0\n",
       "2023-01-01 05:00:00.000           7.0\n",
       "2023-01-01 05:00:00.001           5.0\n",
       "2023-01-01 05:30:00.000           7.0\n",
       "...                               ...\n",
       "2023-04-14 13:30:00.000           3.0\n",
       "2023-04-14 15:00:00.000           4.0\n",
       "2023-04-14 16:30:00.000           3.0\n",
       "2023-04-14 19:30:00.000           1.0\n",
       "2023-04-14 20:00:00.000           2.0\n",
       "\n",
       "[1677 rows x 1 columns]"
      ]
     },
     "execution_count": 12,
     "metadata": {},
     "output_type": "execute_result"
    }
   ],
   "source": [
    "train_smogn_tar"
   ]
  },
  {
   "cell_type": "code",
   "execution_count": 13,
   "id": "856bd457",
   "metadata": {},
   "outputs": [
    {
     "data": {
      "text/plain": [
       "2023-02-11 16:00:00    4.398413\n",
       "2023-01-22 20:30:00    2.000000\n",
       "2023-02-08 11:30:00    4.000000\n",
       "2023-02-04 00:00:00    1.000000\n",
       "2023-04-07 05:00:00    1.740000\n",
       "                         ...   \n",
       "2023-02-24 23:00:00    2.000000\n",
       "2023-02-12 00:30:00    1.636613\n",
       "2023-01-29 15:30:00    1.000000\n",
       "2023-03-16 21:30:00    3.000000\n",
       "2023-03-28 12:30:00    3.000000\n",
       "Name: raw_pred, Length: 1000, dtype: float64"
      ]
     },
     "execution_count": 13,
     "metadata": {},
     "output_type": "execute_result"
    }
   ],
   "source": [
    "#default parameters\n",
    "class_instance = TSCC.correction.ML_byRF()\n",
    "class_instance.fit(\n",
    "                train_smogn_fea.copy(deep=True),\n",
    "                train_smogn_tar[\"ground_truth\"].copy(deep=True),\n",
    "                \"isError_pred\",\n",
    "                config,\n",
    "                preprocessing = \"SMOGN\"\n",
    ")\n",
    "class_instance.predict(\n",
    "                test.drop(columns = config.exclude_cols).copy(deep=True),\n",
    "                \"isError_pred\",\n",
    "                config)"
   ]
  },
  {
   "cell_type": "markdown",
   "id": "0dee218c",
   "metadata": {},
   "source": [
    "# RF with data-level preprocessing/ data augmentation - undersampling"
   ]
  },
  {
   "cell_type": "code",
   "execution_count": 14,
   "id": "4cb6602f",
   "metadata": {
    "scrolled": true
   },
   "outputs": [],
   "source": [
    "import resreg\n",
    "relevance = resreg.sigmoid_relevance(train[config.colname_target_corr], \n",
    "    cl=None, \n",
    "    ch=3 #ch=0.5 in paper (different distribution here, therefore changed the parameter in this example)\n",
    "    )\n",
    "X_train, y_train = resreg.random_undersample(\n",
    "    train.loc[:, ~train.columns.isin(config.exclude_cols)],\n",
    "    train[config.colname_target_corr], \n",
    "    relevance, \n",
    "    relevance_threshold = 0.5,\n",
    "    under='balance', \n",
    "    random_state=0)\n",
    "train_fea_unders = pd.DataFrame(X_train, columns = train.columns[~train.columns.isin(config.exclude_cols)])\n",
    "train_tar_unders = pd.DataFrame(y_train, columns = [config.colname_target_corr])"
   ]
  },
  {
   "cell_type": "code",
   "execution_count": 15,
   "id": "a29155b8",
   "metadata": {},
   "outputs": [
    {
     "data": {
      "text/plain": [
       "(array([280., 566., 544., 357.,   0., 197.,  68.,  26.,  13.,   2.]),\n",
       " array([0. , 0.8, 1.6, 2.4, 3.2, 4. , 4.8, 5.6, 6.4, 7.2, 8. ]),\n",
       " <BarContainer object of 10 artists>)"
      ]
     },
     "execution_count": 15,
     "metadata": {},
     "output_type": "execute_result"
    },
    {
     "data": {
      "image/png": "[encoded data removed]",
      "text/plain": [
       "<Figure size 640x480 with 1 Axes>"
      ]
     },
     "metadata": {},
     "output_type": "display_data"
    }
   ],
   "source": [
    "plt.hist(train[config.colname_target_corr])"
   ]
  },
  {
   "cell_type": "code",
   "execution_count": 16,
   "id": "e2735f02",
   "metadata": {},
   "outputs": [
    {
     "data": {
      "text/html": [
       "<div>\n",
       "<style scoped>\n",
       "    .dataframe tbody tr th:only-of-type {\n",
       "        vertical-align: middle;\n",
       "    }\n",
       "\n",
       "    .dataframe tbody tr th {\n",
       "        vertical-align: top;\n",
       "    }\n",
       "\n",
       "    .dataframe thead th {\n",
       "        text-align: right;\n",
       "    }\n",
       "</style>\n",
       "<table border=\"1\" class=\"dataframe\">\n",
       "  <thead>\n",
       "    <tr style=\"text-align: right;\">\n",
       "      <th></th>\n",
       "      <th>raw</th>\n",
       "      <th>fea_1</th>\n",
       "      <th>fea_2</th>\n",
       "      <th>isError_pred</th>\n",
       "    </tr>\n",
       "  </thead>\n",
       "  <tbody>\n",
       "    <tr>\n",
       "      <th>0</th>\n",
       "      <td>4.097306</td>\n",
       "      <td>3</td>\n",
       "      <td>0</td>\n",
       "      <td>True</td>\n",
       "    </tr>\n",
       "    <tr>\n",
       "      <th>1</th>\n",
       "      <td>1.046155</td>\n",
       "      <td>3</td>\n",
       "      <td>1</td>\n",
       "      <td>True</td>\n",
       "    </tr>\n",
       "    <tr>\n",
       "      <th>2</th>\n",
       "      <td>4.633554</td>\n",
       "      <td>0</td>\n",
       "      <td>2</td>\n",
       "      <td>True</td>\n",
       "    </tr>\n",
       "    <tr>\n",
       "      <th>3</th>\n",
       "      <td>3.421326</td>\n",
       "      <td>1</td>\n",
       "      <td>0</td>\n",
       "      <td>True</td>\n",
       "    </tr>\n",
       "    <tr>\n",
       "      <th>4</th>\n",
       "      <td>5.380745</td>\n",
       "      <td>3</td>\n",
       "      <td>0</td>\n",
       "      <td>True</td>\n",
       "    </tr>\n",
       "    <tr>\n",
       "      <th>...</th>\n",
       "      <td>...</td>\n",
       "      <td>...</td>\n",
       "      <td>...</td>\n",
       "      <td>...</td>\n",
       "    </tr>\n",
       "    <tr>\n",
       "      <th>607</th>\n",
       "      <td>9.13856</td>\n",
       "      <td>3</td>\n",
       "      <td>2</td>\n",
       "      <td>True</td>\n",
       "    </tr>\n",
       "    <tr>\n",
       "      <th>608</th>\n",
       "      <td>3.691234</td>\n",
       "      <td>4</td>\n",
       "      <td>3</td>\n",
       "      <td>True</td>\n",
       "    </tr>\n",
       "    <tr>\n",
       "      <th>609</th>\n",
       "      <td>2.561769</td>\n",
       "      <td>1</td>\n",
       "      <td>2</td>\n",
       "      <td>True</td>\n",
       "    </tr>\n",
       "    <tr>\n",
       "      <th>610</th>\n",
       "      <td>8.351557</td>\n",
       "      <td>2</td>\n",
       "      <td>3</td>\n",
       "      <td>True</td>\n",
       "    </tr>\n",
       "    <tr>\n",
       "      <th>611</th>\n",
       "      <td>3.787771</td>\n",
       "      <td>2</td>\n",
       "      <td>1</td>\n",
       "      <td>True</td>\n",
       "    </tr>\n",
       "  </tbody>\n",
       "</table>\n",
       "<p>612 rows × 4 columns</p>\n",
       "</div>"
      ],
      "text/plain": [
       "          raw fea_1 fea_2 isError_pred\n",
       "0    4.097306     3     0         True\n",
       "1    1.046155     3     1         True\n",
       "2    4.633554     0     2         True\n",
       "3    3.421326     1     0         True\n",
       "4    5.380745     3     0         True\n",
       "..        ...   ...   ...          ...\n",
       "607   9.13856     3     2         True\n",
       "608  3.691234     4     3         True\n",
       "609  2.561769     1     2         True\n",
       "610  8.351557     2     3         True\n",
       "611  3.787771     2     1         True\n",
       "\n",
       "[612 rows x 4 columns]"
      ]
     },
     "execution_count": 16,
     "metadata": {},
     "output_type": "execute_result"
    }
   ],
   "source": [
    "train_fea_unders"
   ]
  },
  {
   "cell_type": "code",
   "execution_count": 17,
   "id": "cb7a3908",
   "metadata": {},
   "outputs": [
    {
     "name": "stderr",
     "output_type": "stream",
     "text": [
      "C:\\Users\\karen\\anaconda3\\envs\\TSCC_testing\\lib\\site-packages\\sklearn\\base.py:1152: DataConversionWarning: A column-vector y was passed when a 1d array was expected. Please change the shape of y to (n_samples,), for example using ravel().\n",
      "  return fit_method(estimator, *args, **kwargs)\n"
     ]
    },
    {
     "data": {
      "text/plain": [
       "2023-02-11 16:00:00    3.094846\n",
       "2023-01-22 20:30:00    2.000000\n",
       "2023-02-08 11:30:00    4.000000\n",
       "2023-02-04 00:00:00    1.000000\n",
       "2023-04-07 05:00:00    2.452744\n",
       "                         ...   \n",
       "2023-02-24 23:00:00    2.000000\n",
       "2023-02-12 00:30:00    3.159103\n",
       "2023-01-29 15:30:00    1.000000\n",
       "2023-03-16 21:30:00    3.000000\n",
       "2023-03-28 12:30:00    3.000000\n",
       "Name: raw_pred, Length: 1000, dtype: float64"
      ]
     },
     "execution_count": 17,
     "metadata": {},
     "output_type": "execute_result"
    }
   ],
   "source": [
    "#default parameters\n",
    "class_instance = TSCC.correction.ML_byRF()\n",
    "class_instance.fit(\n",
    "                train_fea_unders.copy(deep=True),\n",
    "                train_tar_unders.copy(deep=True),\n",
    "                \"isError_pred\",\n",
    "                config)\n",
    "class_instance.predict(\n",
    "                test.drop(columns = config.exclude_cols).copy(deep=True),\n",
    "                \"isError_pred\",\n",
    "                config)"
   ]
  },
  {
   "cell_type": "markdown",
   "id": "c78c2f37",
   "metadata": {},
   "source": [
    "# RF with model-level adjustments - density weights"
   ]
  },
  {
   "cell_type": "markdown",
   "id": "1e05029f",
   "metadata": {},
   "source": [
    "This piece of code is computed inside RF fitter with option \"density\""
   ]
  },
  {
   "cell_type": "code",
   "execution_count": 18,
   "id": "1b171284",
   "metadata": {},
   "outputs": [
    {
     "data": {
      "text/plain": [
       "array([1.44719161e+00, 1.99097532e+00, 1.99097532e+00, 2.57327262e+00,\n",
       "       2.57327262e+00, 1.44591103e-01, 1.99097532e+00, 3.77762834e+00,\n",
       "       6.80130866e-04, 1.44591103e-01])"
      ]
     },
     "execution_count": 18,
     "metadata": {},
     "output_type": "execute_result"
    }
   ],
   "source": [
    "from denseweight import DenseWeight\n",
    "dw = DenseWeight(alpha=1.0)\n",
    "data_losses_train = dw.fit(train[\"ground_truth\"].to_numpy(dtype=\"float\"))\n",
    "data_losses_train[0:10]"
   ]
  },
  {
   "cell_type": "code",
   "execution_count": 19,
   "id": "7624b579",
   "metadata": {},
   "outputs": [
    {
     "data": {
      "text/plain": [
       "2023-02-11 16:00:00    1.720356\n",
       "2023-01-22 20:30:00    2.000000\n",
       "2023-02-08 11:30:00    4.000000\n",
       "2023-02-04 00:00:00    1.000000\n",
       "2023-04-07 05:00:00    1.381053\n",
       "                         ...   \n",
       "2023-02-24 23:00:00    2.000000\n",
       "2023-02-12 00:30:00    1.944351\n",
       "2023-01-29 15:30:00    1.000000\n",
       "2023-03-16 21:30:00    3.000000\n",
       "2023-03-28 12:30:00    3.000000\n",
       "Name: raw_pred, Length: 1000, dtype: float64"
      ]
     },
     "execution_count": 19,
     "metadata": {},
     "output_type": "execute_result"
    }
   ],
   "source": [
    "#default parameters\n",
    "class_instance = TSCC.correction.ML_byRF()\n",
    "class_instance.fit(\n",
    "                train.drop(columns = config.exclude_cols).copy(deep=True),\n",
    "                train[config.colname_target_corr].copy(deep=True),\n",
    "                \"isError_pred\",\n",
    "                None,\n",
    "                \"density\")\n",
    "class_instance.predict(\n",
    "                test.drop(columns = config.exclude_cols).copy(deep=True),\n",
    "                \"isError_pred\",\n",
    "                config)"
   ]
  },
  {
   "cell_type": "markdown",
   "id": "101cbb1d",
   "metadata": {},
   "source": [
    "# RF with model-level adjustments - root function"
   ]
  },
  {
   "cell_type": "code",
   "execution_count": 20,
   "id": "6fa53bad",
   "metadata": {},
   "outputs": [
    {
     "data": {
      "text/plain": [
       "2023-02-11 16:00:00    2.148536\n",
       "2023-01-22 20:30:00    2.000000\n",
       "2023-02-08 11:30:00    4.000000\n",
       "2023-02-04 00:00:00    1.000000\n",
       "2023-04-07 05:00:00    1.430361\n",
       "                         ...   \n",
       "2023-02-24 23:00:00    2.000000\n",
       "2023-02-12 00:30:00    1.657497\n",
       "2023-01-29 15:30:00    1.000000\n",
       "2023-03-16 21:30:00    3.000000\n",
       "2023-03-28 12:30:00    3.000000\n",
       "Name: raw_pred, Length: 1000, dtype: float64"
      ]
     },
     "execution_count": 20,
     "metadata": {},
     "output_type": "execute_result"
    }
   ],
   "source": [
    "#default parameters\n",
    "class_instance = TSCC.correction.ML_byRF()\n",
    "class_instance.fit(\n",
    "                train.drop(columns = config.exclude_cols).copy(deep=True),\n",
    "                train[config.colname_target_corr].copy(deep=True),\n",
    "                \"isError_pred\",\n",
    "                None,\n",
    "                \"root\")\n",
    "class_instance.predict(\n",
    "                test.drop(columns = config.exclude_cols).copy(deep=True),\n",
    "                \"isError_pred\",\n",
    "                config)"
   ]
  },
  {
   "cell_type": "markdown",
   "id": "cc2815da",
   "metadata": {},
   "source": [
    "# Evaluation with data-level postprocessing"
   ]
  },
  {
   "cell_type": "code",
   "execution_count": 21,
   "id": "3a2a09ce",
   "metadata": {},
   "outputs": [],
   "source": [
    "#default parameters\n",
    "class_instance = TSCC.correction.ML_byRF()\n",
    "class_instance.fit(\n",
    "                train.drop(columns = config.exclude_cols).copy(deep=True),\n",
    "                train[config.colname_target_corr].copy(deep=True),\n",
    "                \"isError_pred\",\n",
    "                None,\n",
    "                \"root\")\n",
    "train[\"value_pred\"] = class_instance.predict(\n",
    "                train.drop(columns = config.exclude_cols).copy(deep=True),\n",
    "                \"isError_pred\",\n",
    "                config)\n",
    "test[\"value_pred\"] = class_instance.predict(\n",
    "                test.drop(columns = config.exclude_cols).copy(deep=True),\n",
    "                \"isError_pred\",\n",
    "                config)"
   ]
  },
  {
   "cell_type": "code",
   "execution_count": 22,
   "id": "02907253",
   "metadata": {},
   "outputs": [],
   "source": [
    "COLUMN_LIST_EVAL_REG = [\"ID\", \"model\", \"data_set\", \"cv\", \"mse\", \"mse-rel-root\", \"mse-rel-ind 1.25\",\n",
    "                            \"ind1-rel-ind 1.25\",\n",
    "                            \"rate-rel-ind 1.25\", \"rmse\", \"mae\", \"nse\", \"n_obs\",\n",
    "                            \"sera\"]\n",
    "df_eval = pd.DataFrame(columns = COLUMN_LIST_EVAL_REG)"
   ]
  },
  {
   "cell_type": "code",
   "execution_count": 23,
   "id": "e10b7da8",
   "metadata": {},
   "outputs": [],
   "source": [
    "cur_row = TSCC.assessment.\\\n",
    "        add_eval_of_model_reg(config, \"RF-root_sample_weights\", \"test\", False,\n",
    "                         test[\"ground_truth\"], test[\"value_pred\"])\n",
    "df_eval = pd.concat([df_eval, pd.DataFrame([cur_row])], ignore_index=True)\n"
   ]
  },
  {
   "cell_type": "code",
   "execution_count": 24,
   "id": "1cdcef86",
   "metadata": {},
   "outputs": [
    {
     "data": {
      "text/html": [
       "<div>\n",
       "<style scoped>\n",
       "    .dataframe tbody tr th:only-of-type {\n",
       "        vertical-align: middle;\n",
       "    }\n",
       "\n",
       "    .dataframe tbody tr th {\n",
       "        vertical-align: top;\n",
       "    }\n",
       "\n",
       "    .dataframe thead th {\n",
       "        text-align: right;\n",
       "    }\n",
       "</style>\n",
       "<table border=\"1\" class=\"dataframe\">\n",
       "  <thead>\n",
       "    <tr style=\"text-align: right;\">\n",
       "      <th></th>\n",
       "      <th>ID</th>\n",
       "      <th>model</th>\n",
       "      <th>data_set</th>\n",
       "      <th>cv</th>\n",
       "      <th>mse</th>\n",
       "      <th>mse-rel-root</th>\n",
       "      <th>mse-rel-ind 1.25</th>\n",
       "      <th>ind1-rel-ind 1.25</th>\n",
       "      <th>rate-rel-ind 1.25</th>\n",
       "      <th>rmse</th>\n",
       "      <th>mae</th>\n",
       "      <th>nse</th>\n",
       "      <th>n_obs</th>\n",
       "      <th>sera</th>\n",
       "    </tr>\n",
       "  </thead>\n",
       "  <tbody>\n",
       "    <tr>\n",
       "      <th>0</th>\n",
       "      <td>raw</td>\n",
       "      <td>RF-root_sample_weights</td>\n",
       "      <td>test</td>\n",
       "      <td>False</td>\n",
       "      <td>1.192372</td>\n",
       "      <td>1.108784</td>\n",
       "      <td>0.888833</td>\n",
       "      <td>0.826159</td>\n",
       "      <td>0.140006</td>\n",
       "      <td>1.091958</td>\n",
       "      <td>0.635118</td>\n",
       "      <td>-0.05</td>\n",
       "      <td>1000</td>\n",
       "      <td>829.641798</td>\n",
       "    </tr>\n",
       "  </tbody>\n",
       "</table>\n",
       "</div>"
      ],
      "text/plain": [
       "    ID                   model data_set     cv       mse  mse-rel-root  \\\n",
       "0  raw  RF-root_sample_weights     test  False  1.192372      1.108784   \n",
       "\n",
       "   mse-rel-ind 1.25  ind1-rel-ind 1.25  rate-rel-ind 1.25      rmse       mae  \\\n",
       "0          0.888833           0.826159           0.140006  1.091958  0.635118   \n",
       "\n",
       "    nse n_obs        sera  \n",
       "0 -0.05  1000  829.641798  "
      ]
     },
     "execution_count": 24,
     "metadata": {},
     "output_type": "execute_result"
    }
   ],
   "source": [
    "df_eval"
   ]
  },
  {
   "cell_type": "code",
   "execution_count": null,
   "id": "f7d9a7a2",
   "metadata": {},
   "outputs": [],
   "source": []
  }
 ],
 "metadata": {
  "kernelspec": {
   "display_name": "Python 3 (ipykernel)",
   "language": "python",
   "name": "python3"
  },
  "language_info": {
   "codemirror_mode": {
    "name": "ipython",
    "version": 3
   },
   "file_extension": ".py",
   "mimetype": "text/x-python",
   "name": "python",
   "nbconvert_exporter": "python",
   "pygments_lexer": "ipython3",
   "version": "3.8.15"
  }
 },
 "nbformat": 4,
 "nbformat_minor": 5
}
